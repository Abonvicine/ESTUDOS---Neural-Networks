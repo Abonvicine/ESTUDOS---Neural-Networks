{
  "nbformat": 4,
  "nbformat_minor": 0,
  "metadata": {
    "colab": {
      "name": "RNN com multiplos previsores.ipynb",
      "provenance": [],
      "authorship_tag": "ABX9TyPptyqL1X/XFwC9SS7KhwU+",
      "include_colab_link": true
    },
    "kernelspec": {
      "name": "python3",
      "display_name": "Python 3"
    }
  },
  "cells": [
    {
      "cell_type": "markdown",
      "metadata": {
        "id": "view-in-github",
        "colab_type": "text"
      },
      "source": [
        "<a href=\"https://colab.research.google.com/github/Abonvicine/ESTUDOS---Neural-Networks/blob/main/ESTUDO%20-%20RNN_com_multiplos_previsores.ipynb\" target=\"_parent\"><img src=\"https://colab.research.google.com/assets/colab-badge.svg\" alt=\"Open In Colab\"/></a>"
      ]
    },
    {
      "cell_type": "code",
      "metadata": {
        "id": "ju0lztklV3vX"
      },
      "source": [
        "from keras.models import Sequential \r\n",
        "from keras.layers import Dense, Dropout, LSTM\r\n",
        "from sklearn.preprocessing import MinMaxScaler \r\n",
        "from keras.callbacks import EarlyStopping, ReduceLROnPlateau, ModelCheckpoint\r\n",
        "import numpy as np \r\n",
        "import pandas as pd \r\n",
        "import matplotlib.pyplot as plt"
      ],
      "execution_count": 43,
      "outputs": []
    },
    {
      "cell_type": "code",
      "metadata": {
        "id": "cs8ZF_27ZoSE"
      },
      "source": [
        "base = pd.read_csv(\"/content/petr4_treinamento.csv\")\r\n",
        "base = base.dropna()\r\n",
        "baseTreinamento = base.iloc[:, 1:7].values\r\n",
        "\r\n",
        "normalizador = MinMaxScaler(feature_range=(0,1))\r\n",
        "normalizadorPrevisao = MinMaxScaler(feature_range=(0,1))\r\n",
        "\r\n",
        "\r\n",
        "normalizadorPrevisao.fit_transform(baseTreinamento[:,0:1])\r\n",
        "baseTreinamento = normalizador.fit_transform(baseTreinamento)"
      ],
      "execution_count": 44,
      "outputs": []
    },
    {
      "cell_type": "code",
      "metadata": {
        "colab": {
          "base_uri": "https://localhost:8080/"
        },
        "id": "6wXlVxuJapPW",
        "outputId": "5d418b46-1591-47a1-e1d8-739f9544bf2a"
      },
      "source": [
        "previsores = []\r\n",
        "precoReal = []\r\n",
        "\r\n",
        "for i in range(90, len(baseTreinamento)):\r\n",
        "    previsores.append(baseTreinamento[(i-90):i,0:6])\r\n",
        "    precoReal.append(baseTreinamento[i,0])\r\n",
        "\r\n",
        "previsores, precoReal = np.array(previsores), np.array(precoReal)\r\n",
        "previsores.shape"
      ],
      "execution_count": 45,
      "outputs": [
        {
          "output_type": "execute_result",
          "data": {
            "text/plain": [
              "(1152, 90, 6)"
            ]
          },
          "metadata": {
            "tags": []
          },
          "execution_count": 45
        }
      ]
    },
    {
      "cell_type": "code",
      "metadata": {
        "id": "NlufmD3hcYQv"
      },
      "source": [
        "model = Sequential()\r\n",
        "\r\n",
        "model.add(LSTM(units=100, return_sequences = True,input_shape = (previsores.shape[1],6)))\r\n",
        "model.add(Dropout(0.3))\r\n",
        "\r\n",
        "model.add(LSTM(units = 50, return_sequences = True))\r\n",
        "model.add(Dropout(0.3))\r\n",
        "\r\n",
        "model.add(LSTM(units = 50, return_sequences = True))\r\n",
        "model.add(Dropout(0.3))\r\n",
        "\r\n",
        "model.add(LSTM(units = 50))\r\n",
        "model.add(Dropout(0.3))\r\n",
        "\r\n",
        "model.add(Dense(units = 1, activation= \"sigmoid\"))\r\n",
        "\r\n",
        "model.compile(optimizer = \"adam\", loss = \"mean_squared_error\", metrics = [\"mean_absolute_error\"])\r\n",
        "\r\n",
        "es = EarlyStopping(monitor = \"loss\", min_delta = 1e-10, patience = 10, verbose = 1)\r\n",
        "rlr = ReduceLROnPlateau(monitor = \"loss\", factor = 0.2, patience = 5, verbose = 1)\r\n",
        "mcp = ModelCheckpoint(filepath=\"pesos.h5\", monitor = \"loss\", save_best_only = True, verbose=1)"
      ],
      "execution_count": null,
      "outputs": []
    },
    {
      "cell_type": "code",
      "metadata": {
        "colab": {
          "base_uri": "https://localhost:8080/"
        },
        "id": "PPqHn8RYfX6P",
        "outputId": "c0b4f762-f138-4369-bca3-51393c2f1c24"
      },
      "source": [
        "model.fit(previsores, precoReal, epochs = 100, batch_size = 32, callbacks=[es,rlr,mcp])"
      ],
      "execution_count": null,
      "outputs": [
        {
          "output_type": "stream",
          "text": [
            "Epoch 1/100\n",
            "36/36 [==============================] - 10s 160ms/step - loss: 0.0259 - mean_absolute_error: 0.1255\n",
            "\n",
            "Epoch 00001: loss improved from inf to 0.01654, saving model to pesos.h5\n",
            "Epoch 2/100\n",
            "36/36 [==============================] - 6s 160ms/step - loss: 0.0075 - mean_absolute_error: 0.0699\n",
            "\n",
            "Epoch 00002: loss improved from 0.01654 to 0.00643, saving model to pesos.h5\n",
            "Epoch 3/100\n",
            "36/36 [==============================] - 6s 160ms/step - loss: 0.0051 - mean_absolute_error: 0.0550\n",
            "\n",
            "Epoch 00003: loss improved from 0.00643 to 0.00440, saving model to pesos.h5\n",
            "Epoch 4/100\n",
            "36/36 [==============================] - 6s 159ms/step - loss: 0.0043 - mean_absolute_error: 0.0505\n",
            "\n",
            "Epoch 00004: loss improved from 0.00440 to 0.00404, saving model to pesos.h5\n",
            "Epoch 5/100\n",
            "36/36 [==============================] - 6s 163ms/step - loss: 0.0033 - mean_absolute_error: 0.0453\n",
            "\n",
            "Epoch 00005: loss improved from 0.00404 to 0.00363, saving model to pesos.h5\n",
            "Epoch 6/100\n",
            "36/36 [==============================] - 6s 162ms/step - loss: 0.0039 - mean_absolute_error: 0.0473\n",
            "\n",
            "Epoch 00006: loss improved from 0.00363 to 0.00351, saving model to pesos.h5\n",
            "Epoch 7/100\n",
            "36/36 [==============================] - 6s 161ms/step - loss: 0.0037 - mean_absolute_error: 0.0479\n",
            "\n",
            "Epoch 00007: loss improved from 0.00351 to 0.00349, saving model to pesos.h5\n",
            "Epoch 8/100\n",
            "36/36 [==============================] - 6s 160ms/step - loss: 0.0032 - mean_absolute_error: 0.0437\n",
            "\n",
            "Epoch 00008: loss improved from 0.00349 to 0.00331, saving model to pesos.h5\n",
            "Epoch 9/100\n",
            "36/36 [==============================] - 6s 162ms/step - loss: 0.0028 - mean_absolute_error: 0.0410\n",
            "\n",
            "Epoch 00009: loss improved from 0.00331 to 0.00292, saving model to pesos.h5\n",
            "Epoch 10/100\n",
            "36/36 [==============================] - 6s 163ms/step - loss: 0.0026 - mean_absolute_error: 0.0392\n",
            "\n",
            "Epoch 00010: loss improved from 0.00292 to 0.00269, saving model to pesos.h5\n",
            "Epoch 11/100\n",
            "36/36 [==============================] - 6s 164ms/step - loss: 0.0026 - mean_absolute_error: 0.0398\n",
            "\n",
            "Epoch 00011: loss improved from 0.00269 to 0.00266, saving model to pesos.h5\n",
            "Epoch 12/100\n",
            "36/36 [==============================] - 6s 163ms/step - loss: 0.0025 - mean_absolute_error: 0.0383\n",
            "\n",
            "Epoch 00012: loss did not improve from 0.00266\n",
            "Epoch 13/100\n",
            "36/36 [==============================] - 6s 163ms/step - loss: 0.0024 - mean_absolute_error: 0.0377\n",
            "\n",
            "Epoch 00013: loss improved from 0.00266 to 0.00234, saving model to pesos.h5\n",
            "Epoch 14/100\n",
            "36/36 [==============================] - 6s 163ms/step - loss: 0.0023 - mean_absolute_error: 0.0362\n",
            "\n",
            "Epoch 00014: loss improved from 0.00234 to 0.00225, saving model to pesos.h5\n",
            "Epoch 15/100\n",
            "36/36 [==============================] - 6s 165ms/step - loss: 0.0021 - mean_absolute_error: 0.0353\n",
            "\n",
            "Epoch 00015: loss improved from 0.00225 to 0.00216, saving model to pesos.h5\n",
            "Epoch 16/100\n",
            "36/36 [==============================] - 6s 167ms/step - loss: 0.0018 - mean_absolute_error: 0.0333\n",
            "\n",
            "Epoch 00016: loss improved from 0.00216 to 0.00195, saving model to pesos.h5\n",
            "Epoch 17/100\n",
            "36/36 [==============================] - 6s 165ms/step - loss: 0.0018 - mean_absolute_error: 0.0318\n",
            "\n",
            "Epoch 00017: loss improved from 0.00195 to 0.00184, saving model to pesos.h5\n",
            "Epoch 18/100\n",
            "36/36 [==============================] - 6s 166ms/step - loss: 0.0019 - mean_absolute_error: 0.0327\n",
            "\n",
            "Epoch 00018: loss did not improve from 0.00184\n",
            "Epoch 19/100\n",
            "36/36 [==============================] - 6s 164ms/step - loss: 0.0019 - mean_absolute_error: 0.0332\n",
            "\n",
            "Epoch 00019: loss did not improve from 0.00184\n",
            "Epoch 20/100\n",
            "36/36 [==============================] - 6s 164ms/step - loss: 0.0017 - mean_absolute_error: 0.0323\n",
            "\n",
            "Epoch 00020: loss improved from 0.00184 to 0.00183, saving model to pesos.h5\n",
            "Epoch 21/100\n",
            "36/36 [==============================] - 6s 164ms/step - loss: 0.0017 - mean_absolute_error: 0.0322\n",
            "\n",
            "Epoch 00021: loss improved from 0.00183 to 0.00171, saving model to pesos.h5\n",
            "Epoch 22/100\n",
            "36/36 [==============================] - 6s 165ms/step - loss: 0.0017 - mean_absolute_error: 0.0312\n",
            "\n",
            "Epoch 00022: loss improved from 0.00171 to 0.00163, saving model to pesos.h5\n",
            "Epoch 23/100\n",
            "36/36 [==============================] - 6s 165ms/step - loss: 0.0015 - mean_absolute_error: 0.0300\n",
            "\n",
            "Epoch 00023: loss improved from 0.00163 to 0.00152, saving model to pesos.h5\n",
            "Epoch 24/100\n",
            "36/36 [==============================] - 6s 165ms/step - loss: 0.0014 - mean_absolute_error: 0.0293\n",
            "\n",
            "Epoch 00024: loss improved from 0.00152 to 0.00148, saving model to pesos.h5\n",
            "Epoch 25/100\n",
            "36/36 [==============================] - 6s 166ms/step - loss: 0.0017 - mean_absolute_error: 0.0312\n",
            "\n",
            "Epoch 00025: loss did not improve from 0.00148\n",
            "Epoch 26/100\n",
            "36/36 [==============================] - 6s 165ms/step - loss: 0.0014 - mean_absolute_error: 0.0294\n",
            "\n",
            "Epoch 00026: loss did not improve from 0.00148\n",
            "Epoch 27/100\n",
            "36/36 [==============================] - 6s 165ms/step - loss: 0.0018 - mean_absolute_error: 0.0325\n",
            "\n",
            "Epoch 00027: loss did not improve from 0.00148\n",
            "Epoch 28/100\n",
            "36/36 [==============================] - 6s 165ms/step - loss: 0.0012 - mean_absolute_error: 0.0268\n",
            "\n",
            "Epoch 00028: loss improved from 0.00148 to 0.00129, saving model to pesos.h5\n",
            "Epoch 29/100\n",
            "36/36 [==============================] - 6s 164ms/step - loss: 0.0015 - mean_absolute_error: 0.0290\n",
            "\n",
            "Epoch 00029: loss did not improve from 0.00129\n",
            "Epoch 30/100\n",
            "36/36 [==============================] - 6s 164ms/step - loss: 0.0015 - mean_absolute_error: 0.0295\n",
            "\n",
            "Epoch 00030: loss did not improve from 0.00129\n",
            "Epoch 31/100\n",
            "36/36 [==============================] - 6s 167ms/step - loss: 0.0015 - mean_absolute_error: 0.0294\n",
            "\n",
            "Epoch 00031: loss did not improve from 0.00129\n",
            "Epoch 32/100\n",
            "36/36 [==============================] - 6s 165ms/step - loss: 0.0013 - mean_absolute_error: 0.0276\n",
            "\n",
            "Epoch 00032: loss did not improve from 0.00129\n",
            "Epoch 33/100\n",
            "36/36 [==============================] - 6s 166ms/step - loss: 0.0014 - mean_absolute_error: 0.0290\n",
            "\n",
            "Epoch 00033: ReduceLROnPlateau reducing learning rate to 0.00020000000949949026.\n",
            "\n",
            "Epoch 00033: loss did not improve from 0.00129\n",
            "Epoch 34/100\n",
            "36/36 [==============================] - 6s 166ms/step - loss: 0.0013 - mean_absolute_error: 0.0271\n",
            "\n",
            "Epoch 00034: loss improved from 0.00129 to 0.00123, saving model to pesos.h5\n",
            "Epoch 35/100\n",
            "36/36 [==============================] - 6s 167ms/step - loss: 0.0012 - mean_absolute_error: 0.0259\n",
            "\n",
            "Epoch 00035: loss improved from 0.00123 to 0.00120, saving model to pesos.h5\n",
            "Epoch 36/100\n",
            "36/36 [==============================] - 6s 166ms/step - loss: 0.0012 - mean_absolute_error: 0.0261\n",
            "\n",
            "Epoch 00036: loss improved from 0.00120 to 0.00116, saving model to pesos.h5\n",
            "Epoch 37/100\n",
            "36/36 [==============================] - 6s 166ms/step - loss: 0.0012 - mean_absolute_error: 0.0260\n",
            "\n",
            "Epoch 00037: loss did not improve from 0.00116\n",
            "Epoch 38/100\n",
            "36/36 [==============================] - 6s 166ms/step - loss: 0.0011 - mean_absolute_error: 0.0252\n",
            "\n",
            "Epoch 00038: loss did not improve from 0.00116\n",
            "Epoch 39/100\n",
            "36/36 [==============================] - 6s 166ms/step - loss: 0.0013 - mean_absolute_error: 0.0261\n",
            "\n",
            "Epoch 00039: loss did not improve from 0.00116\n",
            "Epoch 40/100\n",
            "36/36 [==============================] - 6s 167ms/step - loss: 0.0012 - mean_absolute_error: 0.0260\n",
            "\n",
            "Epoch 00040: loss did not improve from 0.00116\n",
            "Epoch 41/100\n",
            "36/36 [==============================] - 6s 171ms/step - loss: 0.0012 - mean_absolute_error: 0.0259\n",
            "\n",
            "Epoch 00041: ReduceLROnPlateau reducing learning rate to 4.0000001899898055e-05.\n",
            "\n",
            "Epoch 00041: loss improved from 0.00116 to 0.00112, saving model to pesos.h5\n",
            "Epoch 42/100\n",
            "36/36 [==============================] - 6s 166ms/step - loss: 0.0011 - mean_absolute_error: 0.0244\n",
            "\n",
            "Epoch 00042: loss improved from 0.00112 to 0.00110, saving model to pesos.h5\n",
            "Epoch 43/100\n",
            "36/36 [==============================] - 6s 164ms/step - loss: 0.0011 - mean_absolute_error: 0.0246\n",
            "\n",
            "Epoch 00043: loss did not improve from 0.00110\n",
            "Epoch 44/100\n",
            "36/36 [==============================] - 6s 165ms/step - loss: 0.0011 - mean_absolute_error: 0.0241\n",
            "\n",
            "Epoch 00044: loss did not improve from 0.00110\n",
            "Epoch 45/100\n",
            "36/36 [==============================] - 6s 166ms/step - loss: 0.0011 - mean_absolute_error: 0.0249\n",
            "\n",
            "Epoch 00045: loss improved from 0.00110 to 0.00110, saving model to pesos.h5\n",
            "Epoch 46/100\n",
            "36/36 [==============================] - 6s 166ms/step - loss: 0.0010 - mean_absolute_error: 0.0244\n",
            "\n",
            "Epoch 00046: ReduceLROnPlateau reducing learning rate to 8.000000525498762e-06.\n",
            "\n",
            "Epoch 00046: loss improved from 0.00110 to 0.00107, saving model to pesos.h5\n",
            "Epoch 47/100\n",
            "36/36 [==============================] - 6s 166ms/step - loss: 0.0012 - mean_absolute_error: 0.0247\n",
            "\n",
            "Epoch 00047: loss did not improve from 0.00107\n",
            "Epoch 48/100\n",
            "36/36 [==============================] - 6s 168ms/step - loss: 0.0011 - mean_absolute_error: 0.0243\n",
            "\n",
            "Epoch 00048: loss did not improve from 0.00107\n",
            "Epoch 49/100\n",
            "36/36 [==============================] - 6s 165ms/step - loss: 0.0011 - mean_absolute_error: 0.0253\n",
            "\n",
            "Epoch 00049: loss did not improve from 0.00107\n",
            "Epoch 50/100\n",
            "36/36 [==============================] - 6s 168ms/step - loss: 0.0011 - mean_absolute_error: 0.0243\n",
            "\n",
            "Epoch 00050: loss did not improve from 0.00107\n",
            "Epoch 51/100\n",
            "36/36 [==============================] - 6s 171ms/step - loss: 0.0012 - mean_absolute_error: 0.0259\n",
            "\n",
            "Epoch 00051: ReduceLROnPlateau reducing learning rate to 1.6000001778593287e-06.\n",
            "\n",
            "Epoch 00051: loss did not improve from 0.00107\n",
            "Epoch 52/100\n",
            "36/36 [==============================] - 6s 164ms/step - loss: 0.0012 - mean_absolute_error: 0.0260\n",
            "\n",
            "Epoch 00052: loss did not improve from 0.00107\n",
            "Epoch 53/100\n",
            "36/36 [==============================] - 6s 164ms/step - loss: 0.0010 - mean_absolute_error: 0.0242\n",
            "\n",
            "Epoch 00053: loss did not improve from 0.00107\n",
            "Epoch 54/100\n",
            "36/36 [==============================] - 6s 164ms/step - loss: 0.0011 - mean_absolute_error: 0.0240\n",
            "\n",
            "Epoch 00054: loss did not improve from 0.00107\n",
            "Epoch 55/100\n",
            "36/36 [==============================] - 6s 164ms/step - loss: 0.0011 - mean_absolute_error: 0.0246\n",
            "\n",
            "Epoch 00055: loss did not improve from 0.00107\n",
            "Epoch 56/100\n",
            "36/36 [==============================] - 6s 165ms/step - loss: 0.0011 - mean_absolute_error: 0.0245\n",
            "\n",
            "Epoch 00056: ReduceLROnPlateau reducing learning rate to 3.200000264769187e-07.\n",
            "\n",
            "Epoch 00056: loss did not improve from 0.00107\n",
            "Epoch 00056: early stopping\n"
          ],
          "name": "stdout"
        },
        {
          "output_type": "execute_result",
          "data": {
            "text/plain": [
              "<tensorflow.python.keras.callbacks.History at 0x7fc93e1d8b38>"
            ]
          },
          "metadata": {
            "tags": []
          },
          "execution_count": 19
        }
      ]
    },
    {
      "cell_type": "code",
      "metadata": {
        "id": "I8rkd5ZLhTCc"
      },
      "source": [
        "baseTeste = pd.read_csv('/content/petr4_teste.csv')\r\n",
        "precoRealTeste = baseTeste.iloc[:,1:2].values\r\n",
        "frames = [base,baseTeste]\r\n",
        "baseCompleta = pd.concat(frames)\r\n",
        "baseCompleta = baseCompleta.drop(\"Date\",axis=1)"
      ],
      "execution_count": 46,
      "outputs": []
    },
    {
      "cell_type": "code",
      "metadata": {
        "id": "XJMnmTl5ipV9"
      },
      "source": [
        "entradas = baseCompleta[len(baseCompleta)-len(baseTeste) - 90:].values\r\n",
        "entradas = normalizador.transform(entradas)"
      ],
      "execution_count": 47,
      "outputs": []
    },
    {
      "cell_type": "code",
      "metadata": {
        "colab": {
          "base_uri": "https://localhost:8080/"
        },
        "id": "zJ3HHEBDjLZl",
        "outputId": "26779718-d36a-4123-e999-53a61773c907"
      },
      "source": [
        "X_teste = []\r\n",
        "\r\n",
        "for i in range(90,len(entradas)):\r\n",
        "    X_teste.append(entradas[i-90:i, 0:6])\r\n",
        "X_teste = np.array(X_teste)\r\n",
        "X_teste.shape"
      ],
      "execution_count": 48,
      "outputs": [
        {
          "output_type": "execute_result",
          "data": {
            "text/plain": [
              "(22, 90, 6)"
            ]
          },
          "metadata": {
            "tags": []
          },
          "execution_count": 48
        }
      ]
    },
    {
      "cell_type": "code",
      "metadata": {
        "id": "pGbkbKADki2H"
      },
      "source": [
        "previsoes = model.predict(X_teste)\r\n",
        "previsoes = normalizadorPrevisao.inverse_transform(previsoes)"
      ],
      "execution_count": 49,
      "outputs": []
    },
    {
      "cell_type": "code",
      "metadata": {
        "colab": {
          "base_uri": "https://localhost:8080/"
        },
        "id": "ot2ghGEFn6h7",
        "outputId": "fdd68b61-5dd2-4998-974f-d57ec4383395"
      },
      "source": [
        "print(f\"desvio em reais R$ {round(previsoes.mean()-precoRealTeste.mean(),2)}\")"
      ],
      "execution_count": 52,
      "outputs": [
        {
          "output_type": "stream",
          "text": [
            "desvio em reais R$ -0.15\n"
          ],
          "name": "stdout"
        }
      ]
    },
    {
      "cell_type": "code",
      "metadata": {
        "colab": {
          "base_uri": "https://localhost:8080/",
          "height": 282
        },
        "id": "ouJtmPaNnkau",
        "outputId": "a86fdf35-558b-4f54-a775-219661a05658"
      },
      "source": [
        "plt.plot(precoRealTeste, color = \"black\", label = \"Preço Real\")\r\n",
        "plt.plot(previsoes, color = \"red\", label = \"Previsão\")\r\n",
        "plt.xlabel(\"Tempo\")\r\n",
        "plt.ylabel(\"Valor R$\")\r\n",
        "plt.legend()\r\n",
        "plt.show()"
      ],
      "execution_count": 50,
      "outputs": [
        {
          "output_type": "display_data",
          "data": {
            "image/png": "[encoded data removed]",
            "text/plain": [
              "<Figure size 432x288 with 1 Axes>"
            ]
          },
          "metadata": {
            "tags": [],
            "needs_background": "light"
          }
        }
      ]
    }
  ]
}