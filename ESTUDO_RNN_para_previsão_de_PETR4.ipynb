{
  "nbformat": 4,
  "nbformat_minor": 0,
  "metadata": {
    "colab": {
      "name": "ESTUDO - RNN para previsão de PETR4.ipynb",
      "provenance": [],
      "authorship_tag": "ABX9TyPoCddDhm9jt7s03oV2qg5N",
      "include_colab_link": true
    },
    "kernelspec": {
      "name": "python3",
      "display_name": "Python 3"
    }
  },
  "cells": [
    {
      "cell_type": "markdown",
      "metadata": {
        "id": "view-in-github",
        "colab_type": "text"
      },
      "source": [
        "<a href=\"https://colab.research.google.com/github/Abonvicine/ESTUDOS---Neural-Networks/blob/main/ESTUDO_RNN_para_previs%C3%A3o_de_PETR4.ipynb\" target=\"_parent\"><img src=\"https://colab.research.google.com/assets/colab-badge.svg\" alt=\"Open In Colab\"/></a>"
      ]
    },
    {
      "cell_type": "code",
      "metadata": {
        "id": "RjILK6zPL8uY"
      },
      "source": [
        "from keras.models import Sequential,load_model\r\n",
        "from keras.layers import Dense, Dropout, LSTM\r\n",
        "from sklearn.preprocessing import MinMaxScaler\r\n",
        "\r\n",
        "import numpy as np \r\n",
        "import pandas as pd\r\n",
        "import matplotlib.pyplot as plt"
      ],
      "execution_count": 2,
      "outputs": []
    },
    {
      "cell_type": "code",
      "metadata": {
        "id": "uFyFC6bNMvfB"
      },
      "source": [
        "base = pd.read_csv(\"/content/petr4_treinamento_ex.csv\")"
      ],
      "execution_count": 3,
      "outputs": []
    },
    {
      "cell_type": "code",
      "metadata": {
        "id": "iJBeIIwTNhR7"
      },
      "source": [
        "base = base.dropna()\r\n",
        "baseTreinamento = base.iloc[:, 1:2].values"
      ],
      "execution_count": 4,
      "outputs": []
    },
    {
      "cell_type": "code",
      "metadata": {
        "id": "05tlAnEZNux3"
      },
      "source": [
        "normalizador = MinMaxScaler( feature_range=(0,1))\r\n",
        "baseTreinamentoNormalizada = normalizador.fit_transform(baseTreinamento)"
      ],
      "execution_count": 5,
      "outputs": []
    },
    {
      "cell_type": "code",
      "metadata": {
        "colab": {
          "base_uri": "https://localhost:8080/"
        },
        "id": "_ci-GRp6N9sA",
        "outputId": "b31bbc82-800e-4c43-f879-321639721cfb"
      },
      "source": [
        "baseTreinamentoNormalizada"
      ],
      "execution_count": 6,
      "outputs": [
        {
          "output_type": "execute_result",
          "data": {
            "text/plain": [
              "array([[0.68207343],\n",
              "       [0.67429801],\n",
              "       [0.69676026],\n",
              "       ...,\n",
              "       [0.86522678],\n",
              "       [0.68466518],\n",
              "       [0.71058315]])"
            ]
          },
          "metadata": {
            "tags": []
          },
          "execution_count": 6
        }
      ]
    },
    {
      "cell_type": "code",
      "metadata": {
        "id": "Yavg18TzQ4sT"
      },
      "source": [
        "previsores = []\r\n",
        "valorReal = []\r\n",
        "\r\n",
        "for i in range(90,len(base)):\r\n",
        "    previsores.append(baseTreinamentoNormalizada[i-90:i,0])\r\n",
        "    valorReal.append(baseTreinamentoNormalizada[i,0])\r\n",
        "\r\n",
        "previsores, valorReal = np.array(previsores), np.array(valorReal)"
      ],
      "execution_count": 7,
      "outputs": []
    },
    {
      "cell_type": "code",
      "metadata": {
        "colab": {
          "base_uri": "https://localhost:8080/"
        },
        "id": "4vGaccg2SpbK",
        "outputId": "545196b2-2220-4644-de24-10a3a8527c13"
      },
      "source": [
        "print(previsores)"
      ],
      "execution_count": 8,
      "outputs": [
        {
          "output_type": "stream",
          "text": [
            "[[0.68207343 0.67429801 0.69676026 ... 0.66220307 0.66090713 0.66177106]\n",
            " [0.67429801 0.69676026 0.70323974 ... 0.66090713 0.66177106 0.67861771]\n",
            " [0.69676026 0.70323974 0.68725706 ... 0.66177106 0.67861771 0.67861771]\n",
            " ...\n",
            " [0.54773214 0.55464367 0.56673866 ... 0.89892009 0.94600432 0.89028073]\n",
            " [0.55464367 0.56673866 0.56803456 ... 0.94600432 0.89028073 0.86522678]\n",
            " [0.56673866 0.56803456 0.59265659 ... 0.89028073 0.86522678 0.68466518]]\n"
          ],
          "name": "stdout"
        }
      ]
    },
    {
      "cell_type": "code",
      "metadata": {
        "id": "IKSAwgKPSpUG"
      },
      "source": [
        "previsores = np.reshape(previsores,(previsores.shape[0],previsores.shape[1],1))"
      ],
      "execution_count": 9,
      "outputs": []
    },
    {
      "cell_type": "code",
      "metadata": {
        "id": "Mjubq8g1UIhV",
        "colab": {
          "base_uri": "https://localhost:8080/"
        },
        "outputId": "30dea45d-294e-4ce2-fd77-4474de370afe"
      },
      "source": [
        "previsores"
      ],
      "execution_count": 10,
      "outputs": [
        {
          "output_type": "execute_result",
          "data": {
            "text/plain": [
              "array([[[0.68207343],\n",
              "        [0.67429801],\n",
              "        [0.69676026],\n",
              "        ...,\n",
              "        [0.66220307],\n",
              "        [0.66090713],\n",
              "        [0.66177106]],\n",
              "\n",
              "       [[0.67429801],\n",
              "        [0.69676026],\n",
              "        [0.70323974],\n",
              "        ...,\n",
              "        [0.66090713],\n",
              "        [0.66177106],\n",
              "        [0.67861771]],\n",
              "\n",
              "       [[0.69676026],\n",
              "        [0.70323974],\n",
              "        [0.68725706],\n",
              "        ...,\n",
              "        [0.66177106],\n",
              "        [0.67861771],\n",
              "        [0.67861771]],\n",
              "\n",
              "       ...,\n",
              "\n",
              "       [[0.54773214],\n",
              "        [0.55464367],\n",
              "        [0.56673866],\n",
              "        ...,\n",
              "        [0.89892009],\n",
              "        [0.94600432],\n",
              "        [0.89028073]],\n",
              "\n",
              "       [[0.55464367],\n",
              "        [0.56673866],\n",
              "        [0.56803456],\n",
              "        ...,\n",
              "        [0.94600432],\n",
              "        [0.89028073],\n",
              "        [0.86522678]],\n",
              "\n",
              "       [[0.56673866],\n",
              "        [0.56803456],\n",
              "        [0.59265659],\n",
              "        ...,\n",
              "        [0.89028073],\n",
              "        [0.86522678],\n",
              "        [0.68466518]]])"
            ]
          },
          "metadata": {
            "tags": []
          },
          "execution_count": 10
        }
      ]
    },
    {
      "cell_type": "code",
      "metadata": {
        "id": "AVGbitwQUoM2"
      },
      "source": [
        "model = Sequential()\r\n",
        "\r\n",
        "model.add(LSTM(units=100, return_sequences = True,input_shape = (previsores.shape[1],1)))\r\n",
        "model.add(Dropout(0.3))\r\n",
        "\r\n",
        "model.add(LSTM(units = 50, return_sequences = True))\r\n",
        "model.add(Dropout(0.3))\r\n",
        "\r\n",
        "model.add(LSTM(units = 50, return_sequences = True))\r\n",
        "model.add(Dropout(0.3))\r\n",
        "\r\n",
        "model.add(LSTM(units = 50))\r\n",
        "model.add(Dropout(0.3))\r\n",
        "\r\n",
        "model.add(Dense(units = 1, activation= \"linear\"))\r\n",
        "\r\n",
        "model.compile(optimizer = \"rmsprop\", loss = \"mean_squared_error\", metrics = [\"mean_absolute_error\"])"
      ],
      "execution_count": 11,
      "outputs": []
    },
    {
      "cell_type": "code",
      "metadata": {
        "id": "ZGOHZZNBWPZC",
        "colab": {
          "base_uri": "https://localhost:8080/"
        },
        "outputId": "06422a94-9fd6-4077-aa38-d260f35acbcd"
      },
      "source": [
        "model.fit(previsores, valorReal, epochs = 100, batch_size=32)"
      ],
      "execution_count": 12,
      "outputs": [
        {
          "output_type": "stream",
          "text": [
            "Epoch 1/100\n",
            "40/40 [==============================] - 13s 165ms/step - loss: 0.0764 - mean_absolute_error: 0.1894\n",
            "Epoch 2/100\n",
            "40/40 [==============================] - 7s 177ms/step - loss: 0.0135 - mean_absolute_error: 0.0902\n",
            "Epoch 3/100\n",
            "40/40 [==============================] - 7s 185ms/step - loss: 0.0180 - mean_absolute_error: 0.1025\n",
            "Epoch 4/100\n",
            "40/40 [==============================] - 7s 184ms/step - loss: 0.0223 - mean_absolute_error: 0.0998\n",
            "Epoch 5/100\n",
            "40/40 [==============================] - 7s 184ms/step - loss: 0.0114 - mean_absolute_error: 0.0824\n",
            "Epoch 6/100\n",
            "40/40 [==============================] - 7s 185ms/step - loss: 0.0092 - mean_absolute_error: 0.0745\n",
            "Epoch 7/100\n",
            "40/40 [==============================] - 7s 175ms/step - loss: 0.0090 - mean_absolute_error: 0.0709\n",
            "Epoch 8/100\n",
            "40/40 [==============================] - 8s 191ms/step - loss: 0.0075 - mean_absolute_error: 0.0657\n",
            "Epoch 9/100\n",
            "40/40 [==============================] - 8s 189ms/step - loss: 0.0064 - mean_absolute_error: 0.0608\n",
            "Epoch 10/100\n",
            "40/40 [==============================] - 7s 180ms/step - loss: 0.0063 - mean_absolute_error: 0.0607\n",
            "Epoch 11/100\n",
            "40/40 [==============================] - 7s 183ms/step - loss: 0.0075 - mean_absolute_error: 0.0626\n",
            "Epoch 12/100\n",
            "40/40 [==============================] - 7s 184ms/step - loss: 0.0051 - mean_absolute_error: 0.0548\n",
            "Epoch 13/100\n",
            "40/40 [==============================] - 7s 186ms/step - loss: 0.0068 - mean_absolute_error: 0.0607\n",
            "Epoch 14/100\n",
            "40/40 [==============================] - 7s 185ms/step - loss: 0.0050 - mean_absolute_error: 0.0530\n",
            "Epoch 15/100\n",
            "40/40 [==============================] - 7s 182ms/step - loss: 0.0040 - mean_absolute_error: 0.0487\n",
            "Epoch 16/100\n",
            "40/40 [==============================] - 7s 183ms/step - loss: 0.0045 - mean_absolute_error: 0.0507\n",
            "Epoch 17/100\n",
            "40/40 [==============================] - 7s 185ms/step - loss: 0.0046 - mean_absolute_error: 0.0499\n",
            "Epoch 18/100\n",
            "40/40 [==============================] - 7s 183ms/step - loss: 0.0042 - mean_absolute_error: 0.0475\n",
            "Epoch 19/100\n",
            "40/40 [==============================] - 7s 181ms/step - loss: 0.0043 - mean_absolute_error: 0.0487\n",
            "Epoch 20/100\n",
            "40/40 [==============================] - 7s 185ms/step - loss: 0.0034 - mean_absolute_error: 0.0449\n",
            "Epoch 21/100\n",
            "40/40 [==============================] - 7s 183ms/step - loss: 0.0035 - mean_absolute_error: 0.0458\n",
            "Epoch 22/100\n",
            "40/40 [==============================] - 7s 183ms/step - loss: 0.0038 - mean_absolute_error: 0.0450\n",
            "Epoch 23/100\n",
            "40/40 [==============================] - 7s 183ms/step - loss: 0.0031 - mean_absolute_error: 0.0419\n",
            "Epoch 24/100\n",
            "40/40 [==============================] - 7s 183ms/step - loss: 0.0033 - mean_absolute_error: 0.0445\n",
            "Epoch 25/100\n",
            "40/40 [==============================] - 8s 193ms/step - loss: 0.0030 - mean_absolute_error: 0.0425\n",
            "Epoch 26/100\n",
            "40/40 [==============================] - 7s 183ms/step - loss: 0.0033 - mean_absolute_error: 0.0443\n",
            "Epoch 27/100\n",
            "40/40 [==============================] - 7s 180ms/step - loss: 0.0032 - mean_absolute_error: 0.0426\n",
            "Epoch 28/100\n",
            "40/40 [==============================] - 7s 181ms/step - loss: 0.0026 - mean_absolute_error: 0.0387\n",
            "Epoch 29/100\n",
            "40/40 [==============================] - 7s 184ms/step - loss: 0.0031 - mean_absolute_error: 0.0436\n",
            "Epoch 30/100\n",
            "40/40 [==============================] - 7s 185ms/step - loss: 0.0027 - mean_absolute_error: 0.0388\n",
            "Epoch 31/100\n",
            "40/40 [==============================] - 7s 184ms/step - loss: 0.0025 - mean_absolute_error: 0.0374\n",
            "Epoch 32/100\n",
            "40/40 [==============================] - 7s 184ms/step - loss: 0.0027 - mean_absolute_error: 0.0403\n",
            "Epoch 33/100\n",
            "40/40 [==============================] - 7s 183ms/step - loss: 0.0025 - mean_absolute_error: 0.0377\n",
            "Epoch 34/100\n",
            "40/40 [==============================] - 7s 184ms/step - loss: 0.0024 - mean_absolute_error: 0.0370\n",
            "Epoch 35/100\n",
            "40/40 [==============================] - 7s 180ms/step - loss: 0.0022 - mean_absolute_error: 0.0362\n",
            "Epoch 36/100\n",
            "40/40 [==============================] - 7s 186ms/step - loss: 0.0028 - mean_absolute_error: 0.0390\n",
            "Epoch 37/100\n",
            "40/40 [==============================] - 7s 186ms/step - loss: 0.0024 - mean_absolute_error: 0.0368\n",
            "Epoch 38/100\n",
            "40/40 [==============================] - 7s 182ms/step - loss: 0.0026 - mean_absolute_error: 0.0389\n",
            "Epoch 39/100\n",
            "40/40 [==============================] - 7s 182ms/step - loss: 0.0024 - mean_absolute_error: 0.0373\n",
            "Epoch 40/100\n",
            "40/40 [==============================] - 7s 184ms/step - loss: 0.0025 - mean_absolute_error: 0.0372\n",
            "Epoch 41/100\n",
            "40/40 [==============================] - 7s 184ms/step - loss: 0.0022 - mean_absolute_error: 0.0349\n",
            "Epoch 42/100\n",
            "40/40 [==============================] - 7s 184ms/step - loss: 0.0023 - mean_absolute_error: 0.0353\n",
            "Epoch 43/100\n",
            "40/40 [==============================] - 7s 185ms/step - loss: 0.0022 - mean_absolute_error: 0.0356\n",
            "Epoch 44/100\n",
            "40/40 [==============================] - 7s 185ms/step - loss: 0.0022 - mean_absolute_error: 0.0353\n",
            "Epoch 45/100\n",
            "40/40 [==============================] - 7s 182ms/step - loss: 0.0024 - mean_absolute_error: 0.0368\n",
            "Epoch 46/100\n",
            "40/40 [==============================] - 7s 182ms/step - loss: 0.0022 - mean_absolute_error: 0.0355\n",
            "Epoch 47/100\n",
            "40/40 [==============================] - 7s 185ms/step - loss: 0.0021 - mean_absolute_error: 0.0347\n",
            "Epoch 48/100\n",
            "40/40 [==============================] - 7s 185ms/step - loss: 0.0026 - mean_absolute_error: 0.0368\n",
            "Epoch 49/100\n",
            "40/40 [==============================] - 7s 183ms/step - loss: 0.0017 - mean_absolute_error: 0.0314\n",
            "Epoch 50/100\n",
            "40/40 [==============================] - 7s 183ms/step - loss: 0.0020 - mean_absolute_error: 0.0335\n",
            "Epoch 51/100\n",
            "40/40 [==============================] - 8s 189ms/step - loss: 0.0019 - mean_absolute_error: 0.0339\n",
            "Epoch 52/100\n",
            "40/40 [==============================] - 7s 186ms/step - loss: 0.0018 - mean_absolute_error: 0.0332\n",
            "Epoch 53/100\n",
            "40/40 [==============================] - 7s 184ms/step - loss: 0.0017 - mean_absolute_error: 0.0308\n",
            "Epoch 54/100\n",
            "40/40 [==============================] - 7s 181ms/step - loss: 0.0018 - mean_absolute_error: 0.0310\n",
            "Epoch 55/100\n",
            "40/40 [==============================] - 7s 185ms/step - loss: 0.0021 - mean_absolute_error: 0.0333\n",
            "Epoch 56/100\n",
            "40/40 [==============================] - 7s 182ms/step - loss: 0.0018 - mean_absolute_error: 0.0327\n",
            "Epoch 57/100\n",
            "40/40 [==============================] - 7s 182ms/step - loss: 0.0019 - mean_absolute_error: 0.0323\n",
            "Epoch 58/100\n",
            "40/40 [==============================] - 7s 184ms/step - loss: 0.0017 - mean_absolute_error: 0.0302\n",
            "Epoch 59/100\n",
            "40/40 [==============================] - 7s 182ms/step - loss: 0.0014 - mean_absolute_error: 0.0280\n",
            "Epoch 60/100\n",
            "40/40 [==============================] - 7s 185ms/step - loss: 0.0020 - mean_absolute_error: 0.0329\n",
            "Epoch 61/100\n",
            "40/40 [==============================] - 7s 185ms/step - loss: 0.0021 - mean_absolute_error: 0.0341\n",
            "Epoch 62/100\n",
            "40/40 [==============================] - 7s 184ms/step - loss: 0.0015 - mean_absolute_error: 0.0294\n",
            "Epoch 63/100\n",
            "40/40 [==============================] - 7s 187ms/step - loss: 0.0017 - mean_absolute_error: 0.0313\n",
            "Epoch 64/100\n",
            "40/40 [==============================] - 7s 187ms/step - loss: 0.0017 - mean_absolute_error: 0.0303\n",
            "Epoch 65/100\n",
            "40/40 [==============================] - 7s 184ms/step - loss: 0.0015 - mean_absolute_error: 0.0298\n",
            "Epoch 66/100\n",
            "40/40 [==============================] - 7s 186ms/step - loss: 0.0018 - mean_absolute_error: 0.0306\n",
            "Epoch 67/100\n",
            "40/40 [==============================] - 8s 195ms/step - loss: 0.0019 - mean_absolute_error: 0.0315\n",
            "Epoch 68/100\n",
            "40/40 [==============================] - 7s 184ms/step - loss: 0.0016 - mean_absolute_error: 0.0303\n",
            "Epoch 69/100\n",
            "40/40 [==============================] - 7s 182ms/step - loss: 0.0017 - mean_absolute_error: 0.0307\n",
            "Epoch 70/100\n",
            "40/40 [==============================] - 7s 180ms/step - loss: 0.0016 - mean_absolute_error: 0.0295\n",
            "Epoch 71/100\n",
            "40/40 [==============================] - 7s 185ms/step - loss: 0.0015 - mean_absolute_error: 0.0288\n",
            "Epoch 72/100\n",
            "40/40 [==============================] - 7s 181ms/step - loss: 0.0016 - mean_absolute_error: 0.0293\n",
            "Epoch 73/100\n",
            "40/40 [==============================] - 7s 180ms/step - loss: 0.0013 - mean_absolute_error: 0.0273\n",
            "Epoch 74/100\n",
            "40/40 [==============================] - 7s 183ms/step - loss: 0.0016 - mean_absolute_error: 0.0300\n",
            "Epoch 75/100\n",
            "40/40 [==============================] - 7s 183ms/step - loss: 0.0016 - mean_absolute_error: 0.0292\n",
            "Epoch 76/100\n",
            "40/40 [==============================] - 7s 184ms/step - loss: 0.0014 - mean_absolute_error: 0.0287\n",
            "Epoch 77/100\n",
            "40/40 [==============================] - 7s 185ms/step - loss: 0.0016 - mean_absolute_error: 0.0303\n",
            "Epoch 78/100\n",
            "40/40 [==============================] - 7s 185ms/step - loss: 0.0016 - mean_absolute_error: 0.0288\n",
            "Epoch 79/100\n",
            "40/40 [==============================] - 7s 184ms/step - loss: 0.0015 - mean_absolute_error: 0.0295\n",
            "Epoch 80/100\n",
            "40/40 [==============================] - 7s 185ms/step - loss: 0.0015 - mean_absolute_error: 0.0283\n",
            "Epoch 81/100\n",
            "40/40 [==============================] - 7s 182ms/step - loss: 0.0015 - mean_absolute_error: 0.0286\n",
            "Epoch 82/100\n",
            "40/40 [==============================] - 7s 184ms/step - loss: 0.0017 - mean_absolute_error: 0.0305\n",
            "Epoch 83/100\n",
            "40/40 [==============================] - 7s 181ms/step - loss: 0.0016 - mean_absolute_error: 0.0296\n",
            "Epoch 84/100\n",
            "40/40 [==============================] - 7s 184ms/step - loss: 0.0015 - mean_absolute_error: 0.0282\n",
            "Epoch 85/100\n",
            "40/40 [==============================] - 7s 184ms/step - loss: 0.0016 - mean_absolute_error: 0.0302\n",
            "Epoch 86/100\n",
            "40/40 [==============================] - 7s 180ms/step - loss: 0.0018 - mean_absolute_error: 0.0290\n",
            "Epoch 87/100\n",
            "40/40 [==============================] - 7s 184ms/step - loss: 0.0014 - mean_absolute_error: 0.0281\n",
            "Epoch 88/100\n",
            "40/40 [==============================] - 7s 182ms/step - loss: 0.0013 - mean_absolute_error: 0.0273\n",
            "Epoch 89/100\n",
            "40/40 [==============================] - 7s 185ms/step - loss: 0.0017 - mean_absolute_error: 0.0308\n",
            "Epoch 90/100\n",
            "40/40 [==============================] - 7s 183ms/step - loss: 0.0015 - mean_absolute_error: 0.0287\n",
            "Epoch 91/100\n",
            "40/40 [==============================] - 7s 184ms/step - loss: 0.0014 - mean_absolute_error: 0.0292\n",
            "Epoch 92/100\n",
            "40/40 [==============================] - 7s 181ms/step - loss: 0.0014 - mean_absolute_error: 0.0277\n",
            "Epoch 93/100\n",
            "40/40 [==============================] - 7s 187ms/step - loss: 0.0012 - mean_absolute_error: 0.0268\n",
            "Epoch 94/100\n",
            "40/40 [==============================] - 8s 188ms/step - loss: 0.0015 - mean_absolute_error: 0.0279\n",
            "Epoch 95/100\n",
            "40/40 [==============================] - 7s 183ms/step - loss: 0.0016 - mean_absolute_error: 0.0284\n",
            "Epoch 96/100\n",
            "40/40 [==============================] - 7s 185ms/step - loss: 0.0016 - mean_absolute_error: 0.0296\n",
            "Epoch 97/100\n",
            "40/40 [==============================] - 7s 183ms/step - loss: 0.0016 - mean_absolute_error: 0.0295\n",
            "Epoch 98/100\n",
            "40/40 [==============================] - 7s 183ms/step - loss: 0.0012 - mean_absolute_error: 0.0257\n",
            "Epoch 99/100\n",
            "40/40 [==============================] - 7s 185ms/step - loss: 0.0017 - mean_absolute_error: 0.0303\n",
            "Epoch 100/100\n",
            "40/40 [==============================] - 7s 184ms/step - loss: 0.0012 - mean_absolute_error: 0.0256\n"
          ],
          "name": "stdout"
        },
        {
          "output_type": "execute_result",
          "data": {
            "text/plain": [
              "<tensorflow.python.keras.callbacks.History at 0x7fdfba5d4518>"
            ]
          },
          "metadata": {
            "tags": []
          },
          "execution_count": 12
        }
      ]
    },
    {
      "cell_type": "code",
      "metadata": {
        "id": "69W9MoYfZLGE"
      },
      "source": [
        "model.save(\"content/PTR4_ex.h5\")"
      ],
      "execution_count": 13,
      "outputs": []
    },
    {
      "cell_type": "code",
      "metadata": {
        "id": "t8g1CkaRaGOs"
      },
      "source": [
        "baseTeste = pd.read_csv(\"/content/petr4_teste_ex.csv\")\r\n",
        "precoRealTeste = baseTeste.iloc[:, 1:2].values"
      ],
      "execution_count": 14,
      "outputs": []
    },
    {
      "cell_type": "code",
      "metadata": {
        "id": "MRiP4DabaU5O"
      },
      "source": [
        "baseCompleta = pd.concat((base[\"Open\"],baseTeste[\"Open\"]),axis = 0)"
      ],
      "execution_count": 15,
      "outputs": []
    },
    {
      "cell_type": "code",
      "metadata": {
        "id": "0FyhNQvxa829"
      },
      "source": [
        "entradas = baseCompleta[len(baseCompleta)- len(baseTeste) - 90:].values\r\n",
        "entradas = entradas.reshape(-1,1)\r\n",
        "entradas = normalizador.transform(entradas)"
      ],
      "execution_count": 16,
      "outputs": []
    },
    {
      "cell_type": "code",
      "metadata": {
        "id": "xykfEHbEbvnE"
      },
      "source": [
        "X_teste = []\r\n",
        "for i in range(90, len(entradas)):\r\n",
        "    X_teste.append(entradas[i-90:i,0])\r\n",
        "\r\n",
        "X_teste = np.array(X_teste)"
      ],
      "execution_count": 17,
      "outputs": []
    },
    {
      "cell_type": "code",
      "metadata": {
        "colab": {
          "base_uri": "https://localhost:8080/"
        },
        "id": "0ogTDR1ec-t8",
        "outputId": "0eee843a-79f5-44b2-f66a-9ba37f07d137"
      },
      "source": [
        "print(X_teste)"
      ],
      "execution_count": 18,
      "outputs": [
        {
          "output_type": "stream",
          "text": [
            "[[0.56803456 0.59265659 0.6112311  ... 0.86522678 0.68466518 0.71058315]\n",
            " [0.59265659 0.6112311  0.6095032  ... 0.68466518 0.71058315 0.64794821]\n",
            " [0.6112311  0.6095032  0.60734341 ... 0.71058315 0.64794821 0.59611231]\n",
            " ...\n",
            " [0.68120946 0.66306691 0.64060479 ... 0.46781857 0.45658747 0.43455724]\n",
            " [0.66306691 0.64060479 0.63974082 ... 0.45658747 0.43455724 0.50280778]\n",
            " [0.64060479 0.63974082 0.66090713 ... 0.43455724 0.50280778 0.51360691]]\n"
          ],
          "name": "stdout"
        }
      ]
    },
    {
      "cell_type": "code",
      "metadata": {
        "id": "85e6NPR7cPbK"
      },
      "source": [
        "X_teste = np.reshape(X_teste,(X_teste.shape[0], X_teste.shape[1],1))"
      ],
      "execution_count": 19,
      "outputs": []
    },
    {
      "cell_type": "code",
      "metadata": {
        "id": "S8-KFGY4dkNr"
      },
      "source": [
        "previsoes = model.predict(X_teste)"
      ],
      "execution_count": 20,
      "outputs": []
    },
    {
      "cell_type": "code",
      "metadata": {
        "id": "istC8XlrdyaM"
      },
      "source": [
        "previsoes = normalizador.inverse_transform(previsoes)"
      ],
      "execution_count": 21,
      "outputs": []
    },
    {
      "cell_type": "code",
      "metadata": {
        "colab": {
          "base_uri": "https://localhost:8080/"
        },
        "id": "_A1ulS-pd_TI",
        "outputId": "3112dd3f-0bf7-4d3b-e876-3a71e5748100"
      },
      "source": [
        "dif = previsoes.mean()-precoRealTeste.mean()\r\n",
        "\r\n",
        "print(f\"desvio em reais R$ {round(dif,2)}\")"
      ],
      "execution_count": 22,
      "outputs": [
        {
          "output_type": "stream",
          "text": [
            "desvio em reais R$ 0.82\n"
          ],
          "name": "stdout"
        }
      ]
    },
    {
      "cell_type": "code",
      "metadata": {
        "colab": {
          "base_uri": "https://localhost:8080/",
          "height": 279
        },
        "id": "lvgSh-dxgOfW",
        "outputId": "85f94281-1a69-4b37-fd23-bd77d556abde"
      },
      "source": [
        "plt.plot(precoRealTeste, color = \"black\", label = \"Preço Real\")\r\n",
        "plt.plot(previsoes, color = \"red\", label = \"Previsão\")\r\n",
        "plt.xlabel(\"Tempo\")\r\n",
        "plt.ylabel(\"Valor R$\")\r\n",
        "plt.legend()\r\n",
        "plt.show()"
      ],
      "execution_count": 23,
      "outputs": [
        {
          "output_type": "display_data",
          "data": {
            "image/png": "[encoded data removed]",
            "text/plain": [
              "<Figure size 432x288 with 1 Axes>"
            ]
          },
          "metadata": {
            "tags": [],
            "needs_background": "light"
          }
        }
      ]
    }
  ]
}